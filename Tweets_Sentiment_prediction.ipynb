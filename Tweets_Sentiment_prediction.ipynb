{
  "nbformat": 4,
  "nbformat_minor": 0,
  "metadata": {
    "kernelspec": {
      "display_name": "Python 3",
      "language": "python",
      "name": "python3"
    },
    "language_info": {
      "codemirror_mode": {
        "name": "ipython",
        "version": 3
      },
      "file_extension": ".py",
      "mimetype": "text/x-python",
      "name": "python",
      "nbconvert_exporter": "python",
      "pygments_lexer": "ipython3",
      "version": "3.7.6"
    },
    "papermill": {
      "duration": 2724.650172,
      "end_time": "2020-10-06T22:04:52.151005",
      "environment_variables": {},
      "exception": null,
      "input_path": "__notebook__.ipynb",
      "output_path": "__notebook__.ipynb",
      "parameters": {},
      "start_time": "2020-10-06T21:19:27.500833",
      "version": "2.1.0"
    },
    "colab": {
      "name": "Tweets_Sentiment_prediction.ipynb",
      "provenance": [],
      "collapsed_sections": [],
      "include_colab_link": true
    },
    "accelerator": "GPU"
  },
  "cells": [
    {
      "cell_type": "markdown",
      "metadata": {
        "id": "view-in-github",
        "colab_type": "text"
      },
      "source": [
        "<a href=\"https://colab.research.google.com/github/amanjaiswal777/Sentiment_Analysis/blob/main/Tweets_Sentiment_prediction.ipynb\" target=\"_parent\"><img src=\"https://colab.research.google.com/assets/colab-badge.svg\" alt=\"Open In Colab\"/></a>"
      ]
    },
    {
      "cell_type": "markdown",
      "metadata": {
        "papermill": {
          "duration": 0.030876,
          "end_time": "2020-10-06T21:19:31.915205",
          "exception": false,
          "start_time": "2020-10-06T21:19:31.884329",
          "status": "completed"
        },
        "tags": [],
        "id": "Qf5t-BTF3Huv"
      },
      "source": [
        "# Imports"
      ]
    },
    {
      "cell_type": "code",
      "metadata": {
        "execution": {
          "iopub.execute_input": "2020-10-06T21:19:31.986613Z",
          "iopub.status.busy": "2020-10-06T21:19:31.985943Z",
          "iopub.status.idle": "2020-10-06T21:19:41.514922Z",
          "shell.execute_reply": "2020-10-06T21:19:41.515686Z"
        },
        "papermill": {
          "duration": 9.569887,
          "end_time": "2020-10-06T21:19:41.515898",
          "exception": false,
          "start_time": "2020-10-06T21:19:31.946011",
          "status": "completed"
        },
        "tags": [],
        "colab": {
          "base_uri": "https://localhost:8080/"
        },
        "id": "lKSoVaR73Huw",
        "outputId": "bba3dc4b-3fda-4a90-f050-2550541306f9"
      },
      "source": [
        "import re\n",
        "import matplotlib.pyplot as plt\n",
        "import string\n",
        "from nltk.corpus import stopwords\n",
        "import nltk\n",
        "from nltk.corpus import wordnet\n",
        "from nltk.stem import WordNetLemmatizer\n",
        "from nltk.tokenize.treebank import TreebankWordDetokenizer\n",
        "from collections import Counter\n",
        "from wordcloud import WordCloud\n",
        "from nltk.corpus import stopwords\n",
        "import nltk\n",
        "from gensim.utils import simple_preprocess\n",
        "from nltk.corpus import stopwords\n",
        "import gensim\n",
        "from sklearn.model_selection import train_test_split\n",
        "import spacy\n",
        "import pickle\n",
        "import warnings\n",
        "warnings.filterwarnings('ignore')\n",
        "import seaborn as sns\n",
        "from sklearn.metrics import confusion_matrix\n",
        "import matplotlib.pyplot as plt \n",
        "import tensorflow as tf\n",
        "import keras\n",
        "import numpy as np\n",
        "import pandas as pd\n",
        "print('Done')"
      ],
      "execution_count": 1,
      "outputs": [
        {
          "output_type": "stream",
          "text": [
            "Done\n"
          ],
          "name": "stdout"
        }
      ]
    },
    {
      "cell_type": "markdown",
      "metadata": {
        "papermill": {
          "duration": 0.032245,
          "end_time": "2020-10-06T21:19:41.583484",
          "exception": false,
          "start_time": "2020-10-06T21:19:41.551239",
          "status": "completed"
        },
        "tags": [],
        "id": "z_qwHIG63Hux"
      },
      "source": [
        "# Data importing"
      ]
    },
    {
      "cell_type": "code",
      "metadata": {
        "_cell_guid": "79c7e3d0-c299-4dcb-8224-4455121ee9b0",
        "_uuid": "d629ff2d2480ee46fbb7e2d37f6b5fab8052498a",
        "execution": {
          "iopub.execute_input": "2020-10-06T21:19:41.667156Z",
          "iopub.status.busy": "2020-10-06T21:19:41.666425Z",
          "iopub.status.idle": "2020-10-06T21:19:41.753917Z",
          "shell.execute_reply": "2020-10-06T21:19:41.752384Z"
        },
        "papermill": {
          "duration": 0.132806,
          "end_time": "2020-10-06T21:19:41.754037",
          "exception": false,
          "start_time": "2020-10-06T21:19:41.621231",
          "status": "completed"
        },
        "tags": [],
        "id": "wh8-9mKN3Hux"
      },
      "source": [
        "train = pd.read_csv('train.csv')"
      ],
      "execution_count": 2,
      "outputs": []
    },
    {
      "cell_type": "markdown",
      "metadata": {
        "papermill": {
          "duration": 0.031706,
          "end_time": "2020-10-06T21:19:41.817762",
          "exception": false,
          "start_time": "2020-10-06T21:19:41.786056",
          "status": "completed"
        },
        "tags": [],
        "id": "jH5DrRf23Huy"
      },
      "source": [
        "# Data exploration"
      ]
    },
    {
      "cell_type": "code",
      "metadata": {
        "execution": {
          "iopub.execute_input": "2020-10-06T21:19:41.898583Z",
          "iopub.status.busy": "2020-10-06T21:19:41.897942Z",
          "iopub.status.idle": "2020-10-06T21:19:41.908219Z",
          "shell.execute_reply": "2020-10-06T21:19:41.908804Z"
        },
        "papermill": {
          "duration": 0.05902,
          "end_time": "2020-10-06T21:19:41.908931",
          "exception": false,
          "start_time": "2020-10-06T21:19:41.849911",
          "status": "completed"
        },
        "tags": [],
        "colab": {
          "base_uri": "https://localhost:8080/",
          "height": 531
        },
        "id": "hsr9zTD53Huy",
        "outputId": "99320831-6e57-4867-ca88-9a4eded59155"
      },
      "source": [
        "train.head(15)"
      ],
      "execution_count": 3,
      "outputs": [
        {
          "output_type": "execute_result",
          "data": {
            "text/html": [
              "<div>\n",
              "<style scoped>\n",
              "    .dataframe tbody tr th:only-of-type {\n",
              "        vertical-align: middle;\n",
              "    }\n",
              "\n",
              "    .dataframe tbody tr th {\n",
              "        vertical-align: top;\n",
              "    }\n",
              "\n",
              "    .dataframe thead th {\n",
              "        text-align: right;\n",
              "    }\n",
              "</style>\n",
              "<table border=\"1\" class=\"dataframe\">\n",
              "  <thead>\n",
              "    <tr style=\"text-align: right;\">\n",
              "      <th></th>\n",
              "      <th>textID</th>\n",
              "      <th>text</th>\n",
              "      <th>selected_text</th>\n",
              "      <th>sentiment</th>\n",
              "    </tr>\n",
              "  </thead>\n",
              "  <tbody>\n",
              "    <tr>\n",
              "      <th>0</th>\n",
              "      <td>cb774db0d1</td>\n",
              "      <td>I`d have responded, if I were going</td>\n",
              "      <td>I`d have responded, if I were going</td>\n",
              "      <td>neutral</td>\n",
              "    </tr>\n",
              "    <tr>\n",
              "      <th>1</th>\n",
              "      <td>549e992a42</td>\n",
              "      <td>Sooo SAD I will miss you here in San Diego!!!</td>\n",
              "      <td>Sooo SAD</td>\n",
              "      <td>negative</td>\n",
              "    </tr>\n",
              "    <tr>\n",
              "      <th>2</th>\n",
              "      <td>088c60f138</td>\n",
              "      <td>my boss is bullying me...</td>\n",
              "      <td>bullying me</td>\n",
              "      <td>negative</td>\n",
              "    </tr>\n",
              "    <tr>\n",
              "      <th>3</th>\n",
              "      <td>9642c003ef</td>\n",
              "      <td>what interview! leave me alone</td>\n",
              "      <td>leave me alone</td>\n",
              "      <td>negative</td>\n",
              "    </tr>\n",
              "    <tr>\n",
              "      <th>4</th>\n",
              "      <td>358bd9e861</td>\n",
              "      <td>Sons of ****, why couldn`t they put them on t...</td>\n",
              "      <td>Sons of ****,</td>\n",
              "      <td>negative</td>\n",
              "    </tr>\n",
              "    <tr>\n",
              "      <th>5</th>\n",
              "      <td>28b57f3990</td>\n",
              "      <td>http://www.dothebouncy.com/smf - some shameles...</td>\n",
              "      <td>http://www.dothebouncy.com/smf - some shameles...</td>\n",
              "      <td>neutral</td>\n",
              "    </tr>\n",
              "    <tr>\n",
              "      <th>6</th>\n",
              "      <td>6e0c6d75b1</td>\n",
              "      <td>2am feedings for the baby are fun when he is a...</td>\n",
              "      <td>fun</td>\n",
              "      <td>positive</td>\n",
              "    </tr>\n",
              "    <tr>\n",
              "      <th>7</th>\n",
              "      <td>50e14c0bb8</td>\n",
              "      <td>Soooo high</td>\n",
              "      <td>Soooo high</td>\n",
              "      <td>neutral</td>\n",
              "    </tr>\n",
              "    <tr>\n",
              "      <th>8</th>\n",
              "      <td>e050245fbd</td>\n",
              "      <td>Both of you</td>\n",
              "      <td>Both of you</td>\n",
              "      <td>neutral</td>\n",
              "    </tr>\n",
              "    <tr>\n",
              "      <th>9</th>\n",
              "      <td>fc2cbefa9d</td>\n",
              "      <td>Journey!? Wow... u just became cooler.  hehe....</td>\n",
              "      <td>Wow... u just became cooler.</td>\n",
              "      <td>positive</td>\n",
              "    </tr>\n",
              "    <tr>\n",
              "      <th>10</th>\n",
              "      <td>2339a9b08b</td>\n",
              "      <td>as much as i love to be hopeful, i reckon the...</td>\n",
              "      <td>as much as i love to be hopeful, i reckon the ...</td>\n",
              "      <td>neutral</td>\n",
              "    </tr>\n",
              "    <tr>\n",
              "      <th>11</th>\n",
              "      <td>16fab9f95b</td>\n",
              "      <td>I really really like the song Love Story by Ta...</td>\n",
              "      <td>like</td>\n",
              "      <td>positive</td>\n",
              "    </tr>\n",
              "    <tr>\n",
              "      <th>12</th>\n",
              "      <td>74a76f6e0a</td>\n",
              "      <td>My Sharpie is running DANGERously low on ink</td>\n",
              "      <td>DANGERously</td>\n",
              "      <td>negative</td>\n",
              "    </tr>\n",
              "    <tr>\n",
              "      <th>13</th>\n",
              "      <td>04dd1d2e34</td>\n",
              "      <td>i want to go to music tonight but i lost my vo...</td>\n",
              "      <td>lost</td>\n",
              "      <td>negative</td>\n",
              "    </tr>\n",
              "    <tr>\n",
              "      <th>14</th>\n",
              "      <td>bbe3cbf620</td>\n",
              "      <td>test test from the LG enV2</td>\n",
              "      <td>test test from the LG enV2</td>\n",
              "      <td>neutral</td>\n",
              "    </tr>\n",
              "  </tbody>\n",
              "</table>\n",
              "</div>"
            ],
            "text/plain": [
              "        textID  ... sentiment\n",
              "0   cb774db0d1  ...   neutral\n",
              "1   549e992a42  ...  negative\n",
              "2   088c60f138  ...  negative\n",
              "3   9642c003ef  ...  negative\n",
              "4   358bd9e861  ...  negative\n",
              "5   28b57f3990  ...   neutral\n",
              "6   6e0c6d75b1  ...  positive\n",
              "7   50e14c0bb8  ...   neutral\n",
              "8   e050245fbd  ...   neutral\n",
              "9   fc2cbefa9d  ...  positive\n",
              "10  2339a9b08b  ...   neutral\n",
              "11  16fab9f95b  ...  positive\n",
              "12  74a76f6e0a  ...  negative\n",
              "13  04dd1d2e34  ...  negative\n",
              "14  bbe3cbf620  ...   neutral\n",
              "\n",
              "[15 rows x 4 columns]"
            ]
          },
          "metadata": {
            "tags": []
          },
          "execution_count": 3
        }
      ]
    },
    {
      "cell_type": "code",
      "metadata": {
        "execution": {
          "iopub.execute_input": "2020-10-06T21:19:41.980569Z",
          "iopub.status.busy": "2020-10-06T21:19:41.979730Z",
          "iopub.status.idle": "2020-10-06T21:19:41.983566Z",
          "shell.execute_reply": "2020-10-06T21:19:41.983073Z"
        },
        "papermill": {
          "duration": 0.041264,
          "end_time": "2020-10-06T21:19:41.983666",
          "exception": false,
          "start_time": "2020-10-06T21:19:41.942402",
          "status": "completed"
        },
        "tags": [],
        "colab": {
          "base_uri": "https://localhost:8080/"
        },
        "id": "Fgj-TWfZ3Huy",
        "outputId": "541c399f-a8b3-459a-afb6-8fb0535f9258"
      },
      "source": [
        "#Let's get the dataset lenght\n",
        "len(train)"
      ],
      "execution_count": 4,
      "outputs": [
        {
          "output_type": "execute_result",
          "data": {
            "text/plain": [
              "27481"
            ]
          },
          "metadata": {
            "tags": []
          },
          "execution_count": 4
        }
      ]
    },
    {
      "cell_type": "code",
      "metadata": {
        "execution": {
          "iopub.execute_input": "2020-10-06T21:19:42.060070Z",
          "iopub.status.busy": "2020-10-06T21:19:42.059141Z",
          "iopub.status.idle": "2020-10-06T21:19:42.064587Z",
          "shell.execute_reply": "2020-10-06T21:19:42.064115Z"
        },
        "papermill": {
          "duration": 0.047577,
          "end_time": "2020-10-06T21:19:42.064691",
          "exception": false,
          "start_time": "2020-10-06T21:19:42.017114",
          "status": "completed"
        },
        "tags": [],
        "colab": {
          "base_uri": "https://localhost:8080/"
        },
        "id": "22S-fLep3Huz",
        "outputId": "841f4f80-6055-41ba-de25-3bcfb1b58f7d"
      },
      "source": [
        "#Is there any other different value than neutral, negative and positive?\n",
        "train['sentiment'].unique()"
      ],
      "execution_count": 5,
      "outputs": [
        {
          "output_type": "execute_result",
          "data": {
            "text/plain": [
              "array(['neutral', 'negative', 'positive'], dtype=object)"
            ]
          },
          "metadata": {
            "tags": []
          },
          "execution_count": 5
        }
      ]
    },
    {
      "cell_type": "code",
      "metadata": {
        "execution": {
          "iopub.execute_input": "2020-10-06T21:19:42.143106Z",
          "iopub.status.busy": "2020-10-06T21:19:42.142318Z",
          "iopub.status.idle": "2020-10-06T21:19:42.185676Z",
          "shell.execute_reply": "2020-10-06T21:19:42.186310Z"
        },
        "papermill": {
          "duration": 0.088183,
          "end_time": "2020-10-06T21:19:42.186453",
          "exception": false,
          "start_time": "2020-10-06T21:19:42.098270",
          "status": "completed"
        },
        "tags": [],
        "colab": {
          "base_uri": "https://localhost:8080/",
          "height": 173
        },
        "id": "DValzTxK3Huz",
        "outputId": "2251e247-1932-492f-dca8-000fc0808a33"
      },
      "source": [
        "#How's distributed the dataset? Is it biased?\n",
        "train.groupby('sentiment').nunique()"
      ],
      "execution_count": 6,
      "outputs": [
        {
          "output_type": "execute_result",
          "data": {
            "text/html": [
              "<div>\n",
              "<style scoped>\n",
              "    .dataframe tbody tr th:only-of-type {\n",
              "        vertical-align: middle;\n",
              "    }\n",
              "\n",
              "    .dataframe tbody tr th {\n",
              "        vertical-align: top;\n",
              "    }\n",
              "\n",
              "    .dataframe thead th {\n",
              "        text-align: right;\n",
              "    }\n",
              "</style>\n",
              "<table border=\"1\" class=\"dataframe\">\n",
              "  <thead>\n",
              "    <tr style=\"text-align: right;\">\n",
              "      <th></th>\n",
              "      <th>textID</th>\n",
              "      <th>text</th>\n",
              "      <th>selected_text</th>\n",
              "    </tr>\n",
              "    <tr>\n",
              "      <th>sentiment</th>\n",
              "      <th></th>\n",
              "      <th></th>\n",
              "      <th></th>\n",
              "    </tr>\n",
              "  </thead>\n",
              "  <tbody>\n",
              "    <tr>\n",
              "      <th>negative</th>\n",
              "      <td>7781</td>\n",
              "      <td>7781</td>\n",
              "      <td>5861</td>\n",
              "    </tr>\n",
              "    <tr>\n",
              "      <th>neutral</th>\n",
              "      <td>11118</td>\n",
              "      <td>11117</td>\n",
              "      <td>11111</td>\n",
              "    </tr>\n",
              "    <tr>\n",
              "      <th>positive</th>\n",
              "      <td>8582</td>\n",
              "      <td>8582</td>\n",
              "      <td>5537</td>\n",
              "    </tr>\n",
              "  </tbody>\n",
              "</table>\n",
              "</div>"
            ],
            "text/plain": [
              "           textID   text  selected_text\n",
              "sentiment                              \n",
              "negative     7781   7781           5861\n",
              "neutral     11118  11117          11111\n",
              "positive     8582   8582           5537"
            ]
          },
          "metadata": {
            "tags": []
          },
          "execution_count": 6
        }
      ]
    },
    {
      "cell_type": "markdown",
      "metadata": {
        "papermill": {
          "duration": 0.033994,
          "end_time": "2020-10-06T21:19:42.255666",
          "exception": false,
          "start_time": "2020-10-06T21:19:42.221672",
          "status": "completed"
        },
        "tags": [],
        "id": "NeEQUXsq3Hu0"
      },
      "source": [
        "# Data cleaning\n",
        "\n",
        "Even when the dataset is a little bit biased, we'll keep it this way because the differences are not significant."
      ]
    },
    {
      "cell_type": "code",
      "metadata": {
        "execution": {
          "iopub.execute_input": "2020-10-06T21:19:42.334657Z",
          "iopub.status.busy": "2020-10-06T21:19:42.333827Z",
          "iopub.status.idle": "2020-10-06T21:19:42.337209Z",
          "shell.execute_reply": "2020-10-06T21:19:42.337696Z"
        },
        "papermill": {
          "duration": 0.04812,
          "end_time": "2020-10-06T21:19:42.337823",
          "exception": false,
          "start_time": "2020-10-06T21:19:42.289703",
          "status": "completed"
        },
        "tags": [],
        "colab": {
          "base_uri": "https://localhost:8080/",
          "height": 204
        },
        "id": "YH-EAT-A3Hu0",
        "outputId": "de823d30-5982-4649-fc56-a7af108f132e"
      },
      "source": [
        "#Let's keep only the columns that we're going to use\n",
        "train = train[['selected_text','sentiment']]\n",
        "train.head()"
      ],
      "execution_count": 7,
      "outputs": [
        {
          "output_type": "execute_result",
          "data": {
            "text/html": [
              "<div>\n",
              "<style scoped>\n",
              "    .dataframe tbody tr th:only-of-type {\n",
              "        vertical-align: middle;\n",
              "    }\n",
              "\n",
              "    .dataframe tbody tr th {\n",
              "        vertical-align: top;\n",
              "    }\n",
              "\n",
              "    .dataframe thead th {\n",
              "        text-align: right;\n",
              "    }\n",
              "</style>\n",
              "<table border=\"1\" class=\"dataframe\">\n",
              "  <thead>\n",
              "    <tr style=\"text-align: right;\">\n",
              "      <th></th>\n",
              "      <th>selected_text</th>\n",
              "      <th>sentiment</th>\n",
              "    </tr>\n",
              "  </thead>\n",
              "  <tbody>\n",
              "    <tr>\n",
              "      <th>0</th>\n",
              "      <td>I`d have responded, if I were going</td>\n",
              "      <td>neutral</td>\n",
              "    </tr>\n",
              "    <tr>\n",
              "      <th>1</th>\n",
              "      <td>Sooo SAD</td>\n",
              "      <td>negative</td>\n",
              "    </tr>\n",
              "    <tr>\n",
              "      <th>2</th>\n",
              "      <td>bullying me</td>\n",
              "      <td>negative</td>\n",
              "    </tr>\n",
              "    <tr>\n",
              "      <th>3</th>\n",
              "      <td>leave me alone</td>\n",
              "      <td>negative</td>\n",
              "    </tr>\n",
              "    <tr>\n",
              "      <th>4</th>\n",
              "      <td>Sons of ****,</td>\n",
              "      <td>negative</td>\n",
              "    </tr>\n",
              "  </tbody>\n",
              "</table>\n",
              "</div>"
            ],
            "text/plain": [
              "                         selected_text sentiment\n",
              "0  I`d have responded, if I were going   neutral\n",
              "1                             Sooo SAD  negative\n",
              "2                          bullying me  negative\n",
              "3                       leave me alone  negative\n",
              "4                        Sons of ****,  negative"
            ]
          },
          "metadata": {
            "tags": []
          },
          "execution_count": 7
        }
      ]
    },
    {
      "cell_type": "code",
      "metadata": {
        "execution": {
          "iopub.execute_input": "2020-10-06T21:19:42.415166Z",
          "iopub.status.busy": "2020-10-06T21:19:42.414365Z",
          "iopub.status.idle": "2020-10-06T21:19:42.418112Z",
          "shell.execute_reply": "2020-10-06T21:19:42.417659Z"
        },
        "papermill": {
          "duration": 0.0451,
          "end_time": "2020-10-06T21:19:42.418205",
          "exception": false,
          "start_time": "2020-10-06T21:19:42.373105",
          "status": "completed"
        },
        "tags": [],
        "colab": {
          "base_uri": "https://localhost:8080/"
        },
        "id": "1tWi_6bO3Hu0",
        "outputId": "8ed53fb0-2b81-4829-86e2-71ebec07a609"
      },
      "source": [
        "#Is there any null value?\n",
        "train[\"selected_text\"].isnull().sum()"
      ],
      "execution_count": 8,
      "outputs": [
        {
          "output_type": "execute_result",
          "data": {
            "text/plain": [
              "1"
            ]
          },
          "metadata": {
            "tags": []
          },
          "execution_count": 8
        }
      ]
    },
    {
      "cell_type": "code",
      "metadata": {
        "execution": {
          "iopub.execute_input": "2020-10-06T21:19:42.499946Z",
          "iopub.status.busy": "2020-10-06T21:19:42.498153Z",
          "iopub.status.idle": "2020-10-06T21:19:42.500760Z",
          "shell.execute_reply": "2020-10-06T21:19:42.501276Z"
        },
        "papermill": {
          "duration": 0.047154,
          "end_time": "2020-10-06T21:19:42.501409",
          "exception": false,
          "start_time": "2020-10-06T21:19:42.454255",
          "status": "completed"
        },
        "tags": [],
        "id": "kflgbFaq3Hu1"
      },
      "source": [
        "#Let's fill the only null value.\n",
        "train[\"selected_text\"].fillna(\"No content\", inplace = True)"
      ],
      "execution_count": 9,
      "outputs": []
    },
    {
      "cell_type": "markdown",
      "metadata": {
        "papermill": {
          "duration": 0.035753,
          "end_time": "2020-10-06T21:19:42.572975",
          "exception": false,
          "start_time": "2020-10-06T21:19:42.537222",
          "status": "completed"
        },
        "tags": [],
        "id": "X6yOomco3Hu1"
      },
      "source": [
        "### The next steps about data cleaning will be:\n",
        "\n",
        "* Remove URLs from the tweets\n",
        "* Tokenize text\n",
        "* Remove emails\n",
        "* Remove new lines characters\n",
        "* Remove distracting single quotes\n",
        "* Remove all punctuation signs\n",
        "* Lowercase all text\n",
        "* Detokenize text\n",
        "* Convert list of texts to Numpy array"
      ]
    },
    {
      "cell_type": "code",
      "metadata": {
        "execution": {
          "iopub.execute_input": "2020-10-06T21:19:42.651469Z",
          "iopub.status.busy": "2020-10-06T21:19:42.650518Z",
          "iopub.status.idle": "2020-10-06T21:19:42.653091Z",
          "shell.execute_reply": "2020-10-06T21:19:42.653513Z"
        },
        "papermill": {
          "duration": 0.044735,
          "end_time": "2020-10-06T21:19:42.653654",
          "exception": false,
          "start_time": "2020-10-06T21:19:42.608919",
          "status": "completed"
        },
        "tags": [],
        "id": "eLfJFiI43Hu1"
      },
      "source": [
        "def depure_data(data):\n",
        "    \n",
        "    #Removing URLs with a regular expression\n",
        "    url_pattern = re.compile(r'https?://\\S+|www\\.\\S+')\n",
        "    data = url_pattern.sub(r'', data)\n",
        "\n",
        "    # Remove Emails\n",
        "    data = re.sub('\\S*@\\S*\\s?', '', data)\n",
        "\n",
        "    # Remove new line characters\n",
        "    data = re.sub('\\s+', ' ', data)\n",
        "\n",
        "    # Remove distracting single quotes\n",
        "    data = re.sub(\"\\'\", \"\", data)\n",
        "        \n",
        "    return data"
      ],
      "execution_count": 10,
      "outputs": []
    },
    {
      "cell_type": "code",
      "metadata": {
        "execution": {
          "iopub.execute_input": "2020-10-06T21:19:42.742866Z",
          "iopub.status.busy": "2020-10-06T21:19:42.737799Z",
          "iopub.status.idle": "2020-10-06T21:19:43.099846Z",
          "shell.execute_reply": "2020-10-06T21:19:43.100317Z"
        },
        "papermill": {
          "duration": 0.411166,
          "end_time": "2020-10-06T21:19:43.100446",
          "exception": false,
          "start_time": "2020-10-06T21:19:42.689280",
          "status": "completed"
        },
        "tags": [],
        "colab": {
          "base_uri": "https://localhost:8080/"
        },
        "id": "-t3Zo2nM3Hu2",
        "outputId": "f7fe844a-9afc-4cc1-c48c-6e5dfbb6ee25"
      },
      "source": [
        "temp = []\n",
        "#Splitting pd.Series to list\n",
        "data_to_list = train['selected_text'].values.tolist()\n",
        "for i in range(len(data_to_list)):\n",
        "    temp.append(depure_data(data_to_list[i]))\n",
        "list(temp[:5])"
      ],
      "execution_count": 11,
      "outputs": [
        {
          "output_type": "execute_result",
          "data": {
            "text/plain": [
              "['I`d have responded, if I were going',\n",
              " 'Sooo SAD',\n",
              " 'bullying me',\n",
              " 'leave me alone',\n",
              " 'Sons of ****,']"
            ]
          },
          "metadata": {
            "tags": []
          },
          "execution_count": 11
        }
      ]
    },
    {
      "cell_type": "code",
      "metadata": {
        "execution": {
          "iopub.execute_input": "2020-10-06T21:19:43.217126Z",
          "iopub.status.busy": "2020-10-06T21:19:43.201831Z",
          "iopub.status.idle": "2020-10-06T21:19:44.301157Z",
          "shell.execute_reply": "2020-10-06T21:19:44.300459Z"
        },
        "papermill": {
          "duration": 1.161143,
          "end_time": "2020-10-06T21:19:44.301321",
          "exception": false,
          "start_time": "2020-10-06T21:19:43.140178",
          "status": "completed"
        },
        "tags": [],
        "colab": {
          "base_uri": "https://localhost:8080/"
        },
        "id": "ygoxvTLZ3Hu2",
        "outputId": "ee1b2c02-06e8-405e-d933-dd461ddf3876"
      },
      "source": [
        "def sent_to_words(sentences):\n",
        "    for sentence in sentences:\n",
        "        yield(gensim.utils.simple_preprocess(str(sentence), deacc=True))  # deacc=True removes punctuations\n",
        "        \n",
        "\n",
        "data_words = list(sent_to_words(temp))\n",
        "\n",
        "print(data_words[:10])"
      ],
      "execution_count": 12,
      "outputs": [
        {
          "output_type": "stream",
          "text": [
            "[['have', 'responded', 'if', 'were', 'going'], ['sooo', 'sad'], ['bullying', 'me'], ['leave', 'me', 'alone'], ['sons', 'of'], ['some', 'shameless', 'plugging', 'for', 'the', 'best', 'rangers', 'forum', 'on', 'earth'], ['fun'], ['soooo', 'high'], ['both', 'of', 'you'], ['wow', 'just', 'became', 'cooler']]\n"
          ],
          "name": "stdout"
        }
      ]
    },
    {
      "cell_type": "code",
      "metadata": {
        "execution": {
          "iopub.execute_input": "2020-10-06T21:19:44.381205Z",
          "iopub.status.busy": "2020-10-06T21:19:44.380312Z",
          "iopub.status.idle": "2020-10-06T21:19:44.384281Z",
          "shell.execute_reply": "2020-10-06T21:19:44.383753Z"
        },
        "papermill": {
          "duration": 0.045481,
          "end_time": "2020-10-06T21:19:44.384376",
          "exception": false,
          "start_time": "2020-10-06T21:19:44.338895",
          "status": "completed"
        },
        "tags": [],
        "colab": {
          "base_uri": "https://localhost:8080/"
        },
        "id": "HPHxLCRI3Hu2",
        "outputId": "3a055134-1f82-4bdb-f2e0-a7fb4cbe1507"
      },
      "source": [
        "len(data_words)"
      ],
      "execution_count": 13,
      "outputs": [
        {
          "output_type": "execute_result",
          "data": {
            "text/plain": [
              "27481"
            ]
          },
          "metadata": {
            "tags": []
          },
          "execution_count": 13
        }
      ]
    },
    {
      "cell_type": "code",
      "metadata": {
        "execution": {
          "iopub.execute_input": "2020-10-06T21:19:44.465126Z",
          "iopub.status.busy": "2020-10-06T21:19:44.464351Z",
          "iopub.status.idle": "2020-10-06T21:19:44.467376Z",
          "shell.execute_reply": "2020-10-06T21:19:44.466918Z"
        },
        "papermill": {
          "duration": 0.045096,
          "end_time": "2020-10-06T21:19:44.467470",
          "exception": false,
          "start_time": "2020-10-06T21:19:44.422374",
          "status": "completed"
        },
        "tags": [],
        "id": "p_GjfxBu3Hu3"
      },
      "source": [
        "def detokenize(text):\n",
        "    return TreebankWordDetokenizer().detokenize(text)"
      ],
      "execution_count": 14,
      "outputs": []
    },
    {
      "cell_type": "code",
      "metadata": {
        "execution": {
          "iopub.execute_input": "2020-10-06T21:19:44.561022Z",
          "iopub.status.busy": "2020-10-06T21:19:44.550825Z",
          "iopub.status.idle": "2020-10-06T21:19:47.831584Z",
          "shell.execute_reply": "2020-10-06T21:19:47.832620Z"
        },
        "papermill": {
          "duration": 3.326682,
          "end_time": "2020-10-06T21:19:47.832800",
          "exception": false,
          "start_time": "2020-10-06T21:19:44.506118",
          "status": "completed"
        },
        "tags": [],
        "colab": {
          "base_uri": "https://localhost:8080/"
        },
        "id": "RpZXlrS63Hu3",
        "outputId": "5d90caab-c1b7-408b-bffa-577355687a5a"
      },
      "source": [
        "data = []\n",
        "for i in range(len(data_words)):\n",
        "    data.append(detokenize(data_words[i]))\n",
        "print(data[:5])"
      ],
      "execution_count": 15,
      "outputs": [
        {
          "output_type": "stream",
          "text": [
            "['have responded if were going', 'sooo sad', 'bullying me', 'leave me alone', 'sons of']\n"
          ],
          "name": "stdout"
        }
      ]
    },
    {
      "cell_type": "code",
      "metadata": {
        "execution": {
          "iopub.execute_input": "2020-10-06T21:19:47.936780Z",
          "iopub.status.busy": "2020-10-06T21:19:47.934885Z",
          "iopub.status.idle": "2020-10-06T21:19:47.937552Z",
          "shell.execute_reply": "2020-10-06T21:19:47.938090Z"
        },
        "papermill": {
          "duration": 0.06542,
          "end_time": "2020-10-06T21:19:47.938217",
          "exception": false,
          "start_time": "2020-10-06T21:19:47.872797",
          "status": "completed"
        },
        "tags": [],
        "id": "y1bStMzE3Hu3"
      },
      "source": [
        "data = np.array(data)"
      ],
      "execution_count": 16,
      "outputs": []
    },
    {
      "cell_type": "markdown",
      "metadata": {
        "papermill": {
          "duration": 0.037183,
          "end_time": "2020-10-06T21:19:48.013459",
          "exception": false,
          "start_time": "2020-10-06T21:19:47.976276",
          "status": "completed"
        },
        "tags": [],
        "id": "zgZscyaN3Hu3"
      },
      "source": [
        "# Label encoding\n",
        "\n",
        "As the dataset is categorical, we need to convert the sentiment labels from Neutral, Negative and Positive to a float type that our model can understand. To achieve this task, we'll implement the to_categorical method from Keras."
      ]
    },
    {
      "cell_type": "code",
      "metadata": {
        "execution": {
          "iopub.execute_input": "2020-10-06T21:19:48.122784Z",
          "iopub.status.busy": "2020-10-06T21:19:48.121518Z",
          "iopub.status.idle": "2020-10-06T21:19:48.125042Z",
          "shell.execute_reply": "2020-10-06T21:19:48.125481Z"
        },
        "papermill": {
          "duration": 0.074223,
          "end_time": "2020-10-06T21:19:48.125627",
          "exception": false,
          "start_time": "2020-10-06T21:19:48.051404",
          "status": "completed"
        },
        "tags": [],
        "id": "1AmPbptX3Hu4"
      },
      "source": [
        "labels = np.array(train['sentiment'])\n",
        "y = []\n",
        "for i in range(len(labels)):\n",
        "    if labels[i] == 'neutral':\n",
        "        y.append(0)\n",
        "    if labels[i] == 'negative':\n",
        "        y.append(1)\n",
        "    if labels[i] == 'positive':\n",
        "        y.append(2)\n",
        "y = np.array(y)\n",
        "labels = tf.keras.utils.to_categorical(y, 3, dtype=\"float32\")\n",
        "del y"
      ],
      "execution_count": 17,
      "outputs": []
    },
    {
      "cell_type": "code",
      "metadata": {
        "execution": {
          "iopub.execute_input": "2020-10-06T21:19:48.206863Z",
          "iopub.status.busy": "2020-10-06T21:19:48.206068Z",
          "iopub.status.idle": "2020-10-06T21:19:48.209920Z",
          "shell.execute_reply": "2020-10-06T21:19:48.209425Z"
        },
        "papermill": {
          "duration": 0.046647,
          "end_time": "2020-10-06T21:19:48.210021",
          "exception": false,
          "start_time": "2020-10-06T21:19:48.163374",
          "status": "completed"
        },
        "tags": [],
        "colab": {
          "base_uri": "https://localhost:8080/"
        },
        "id": "VTayXEu73Hu4",
        "outputId": "fd48b068-215a-439a-93bf-76397e10c45e"
      },
      "source": [
        "len(labels)"
      ],
      "execution_count": 18,
      "outputs": [
        {
          "output_type": "execute_result",
          "data": {
            "text/plain": [
              "27481"
            ]
          },
          "metadata": {
            "tags": []
          },
          "execution_count": 18
        }
      ]
    },
    {
      "cell_type": "markdown",
      "metadata": {
        "papermill": {
          "duration": 0.038298,
          "end_time": "2020-10-06T21:19:48.287312",
          "exception": false,
          "start_time": "2020-10-06T21:19:48.249014",
          "status": "completed"
        },
        "tags": [],
        "id": "n0gh_LEs3Hu4"
      },
      "source": [
        "# Data sequencing and splitting\n",
        "\n",
        "We'll implement the Keras tokenizer as well as its pad_sequences method to transform our text data into 3D float data, otherwise our neural networks won't be able to be trained on it."
      ]
    },
    {
      "cell_type": "code",
      "metadata": {
        "execution": {
          "iopub.execute_input": "2020-10-06T21:19:48.373707Z",
          "iopub.status.busy": "2020-10-06T21:19:48.372469Z",
          "iopub.status.idle": "2020-10-06T21:19:49.386819Z",
          "shell.execute_reply": "2020-10-06T21:19:49.387562Z"
        },
        "papermill": {
          "duration": 1.062302,
          "end_time": "2020-10-06T21:19:49.387739",
          "exception": false,
          "start_time": "2020-10-06T21:19:48.325437",
          "status": "completed"
        },
        "tags": [],
        "colab": {
          "base_uri": "https://localhost:8080/"
        },
        "id": "2xK1vMGt3Hu4",
        "outputId": "8d326aca-1f21-4def-ba5e-586600b49ce4"
      },
      "source": [
        "from keras.models import Sequential\n",
        "from keras import layers\n",
        "from keras.optimizers import RMSprop,Adam\n",
        "from keras.preprocessing.text import Tokenizer\n",
        "from keras.preprocessing.sequence import pad_sequences\n",
        "from keras import regularizers\n",
        "from keras import backend as K\n",
        "from keras.callbacks import ModelCheckpoint\n",
        "max_words = 5000\n",
        "max_len = 200\n",
        "\n",
        "tokenizer = Tokenizer(num_words=max_words)\n",
        "tokenizer.fit_on_texts(data)\n",
        "sequences = tokenizer.texts_to_sequences(data)\n",
        "tweets = pad_sequences(sequences, maxlen=max_len)\n",
        "print(tweets)"
      ],
      "execution_count": 19,
      "outputs": [
        {
          "output_type": "stream",
          "text": [
            "[[   0    0    0 ...   68  146   41]\n",
            " [   0    0    0 ...    0  397   65]\n",
            " [   0    0    0 ...    0    0   11]\n",
            " ...\n",
            " [   0    0    0 ...  372   10    3]\n",
            " [   0    0    0 ...   24  542    4]\n",
            " [   0    0    0 ... 2424  199  657]]\n"
          ],
          "name": "stdout"
        }
      ]
    },
    {
      "cell_type": "code",
      "metadata": {
        "execution": {
          "iopub.execute_input": "2020-10-06T21:19:49.478734Z",
          "iopub.status.busy": "2020-10-06T21:19:49.477823Z",
          "iopub.status.idle": "2020-10-06T21:19:49.482217Z",
          "shell.execute_reply": "2020-10-06T21:19:49.483329Z"
        },
        "papermill": {
          "duration": 0.054099,
          "end_time": "2020-10-06T21:19:49.483550",
          "exception": false,
          "start_time": "2020-10-06T21:19:49.429451",
          "status": "completed"
        },
        "tags": [],
        "colab": {
          "base_uri": "https://localhost:8080/"
        },
        "id": "KIZi_MkX3Hu5",
        "outputId": "ea249d34-ed6f-4fea-f9e4-bfbc509ccc4b"
      },
      "source": [
        "print(labels)"
      ],
      "execution_count": 20,
      "outputs": [
        {
          "output_type": "stream",
          "text": [
            "[[1. 0. 0.]\n",
            " [0. 1. 0.]\n",
            " [0. 1. 0.]\n",
            " ...\n",
            " [0. 0. 1.]\n",
            " [0. 0. 1.]\n",
            " [1. 0. 0.]]\n"
          ],
          "name": "stdout"
        }
      ]
    },
    {
      "cell_type": "code",
      "metadata": {
        "execution": {
          "iopub.execute_input": "2020-10-06T21:19:49.585814Z",
          "iopub.status.busy": "2020-10-06T21:19:49.584576Z",
          "iopub.status.idle": "2020-10-06T21:19:49.600360Z",
          "shell.execute_reply": "2020-10-06T21:19:49.601002Z"
        },
        "papermill": {
          "duration": 0.069178,
          "end_time": "2020-10-06T21:19:49.601136",
          "exception": false,
          "start_time": "2020-10-06T21:19:49.531958",
          "status": "completed"
        },
        "tags": [],
        "colab": {
          "base_uri": "https://localhost:8080/"
        },
        "id": "FUyHX3bp3Hu5",
        "outputId": "e44de8ff-66e0-413f-f669-4d33739b5cae"
      },
      "source": [
        "#Splitting the data\n",
        "X_train, X_test, y_train, y_test = train_test_split(tweets,labels, random_state=0)\n",
        "print (len(X_train),len(X_test),len(y_train),len(y_test))"
      ],
      "execution_count": 21,
      "outputs": [
        {
          "output_type": "stream",
          "text": [
            "20610 6871 20610 6871\n"
          ],
          "name": "stdout"
        }
      ]
    },
    {
      "cell_type": "markdown",
      "metadata": {
        "papermill": {
          "duration": 0.044723,
          "end_time": "2020-10-06T21:19:49.690338",
          "exception": false,
          "start_time": "2020-10-06T21:19:49.645615",
          "status": "completed"
        },
        "tags": [],
        "id": "Ruq2z6Je3Hu6"
      },
      "source": [
        "# Model building\n",
        "\n",
        "Alright, in the next cells I'll guide you through the process of building 3 Recurrent Neural Networks. I'll implement sequential models from the Keras API to achieve this task. Essentially, I'll start with a single layer **LSTM** network which is known by achieving good results in NLP tasks when the dataset is relatively small (I could have started with a SimpleRNN which is even simpler, but to be honest it's actually not deployed in production environments because it is too simple - however I'll leave it commented in case you want to know it's built). The next one will be a Bidirectional LSTM model, a more complex one and this particular one is known to achieve great metrics when talking about text classification. To go beyond the classic NLP approach, finally we'll implement a very unusual model: a Convolutional 1D network, known as well by delivering good metrics when talking about NLP. If everything goes ok, we should get the best results with the BidRNN, let's see what happens.\n",
        "\n",
        "Let's get hands on:"
      ]
    },
    {
      "cell_type": "markdown",
      "metadata": {
        "papermill": {
          "duration": 0.045363,
          "end_time": "2020-10-06T21:19:49.779234",
          "exception": false,
          "start_time": "2020-10-06T21:19:49.733871",
          "status": "completed"
        },
        "tags": [],
        "id": "clKiIK383Hu6"
      },
      "source": [
        "## SimpleRNN model (Bonus)"
      ]
    },
    {
      "cell_type": "code",
      "metadata": {
        "execution": {
          "iopub.execute_input": "2020-10-06T21:19:49.876465Z",
          "iopub.status.busy": "2020-10-06T21:19:49.875466Z",
          "iopub.status.idle": "2020-10-06T21:19:49.878789Z",
          "shell.execute_reply": "2020-10-06T21:19:49.878237Z"
        },
        "papermill": {
          "duration": 0.054472,
          "end_time": "2020-10-06T21:19:49.878902",
          "exception": false,
          "start_time": "2020-10-06T21:19:49.824430",
          "status": "completed"
        },
        "tags": [],
        "id": "Yujis-u13Hu6"
      },
      "source": [
        "#model0 = Sequential()\n",
        "#model0.add(layers.Embedding(max_words, 15))\n",
        "#model0.add(layers.SimpleRNN(15))\n",
        "#model0.add(layers.Dense(3,activation='softmax'))\n",
        "\n",
        "\n",
        "#model0.compile(optimizer='rmsprop',loss='categorical_crossentropy', metrics=['accuracy'])\n",
        "#Implementing model checkpoins to save the best metric and do not lose it on training.\n",
        "#checkpoint0 = ModelCheckpoint(\"best_model0.hdf5\", monitor='val_accuracy', verbose=1,save_best_only=True, mode='auto', period=1,save_weights_only=False)\n",
        "#history = model0.fit(X_train, y_train, epochs=5,validation_data=(X_test, y_test),callbacks=[checkpoint0])"
      ],
      "execution_count": 22,
      "outputs": []
    },
    {
      "cell_type": "markdown",
      "metadata": {
        "papermill": {
          "duration": 0.044937,
          "end_time": "2020-10-06T21:19:49.968644",
          "exception": false,
          "start_time": "2020-10-06T21:19:49.923707",
          "status": "completed"
        },
        "tags": [],
        "id": "7tDYO-Os3Hu7"
      },
      "source": [
        "## Single LSTM layer model"
      ]
    },
    {
      "cell_type": "code",
      "metadata": {
        "execution": {
          "iopub.execute_input": "2020-10-06T21:19:50.068632Z",
          "iopub.status.busy": "2020-10-06T21:19:50.067909Z",
          "iopub.status.idle": "2020-10-06T21:30:02.803265Z",
          "shell.execute_reply": "2020-10-06T21:30:02.805203Z"
        },
        "papermill": {
          "duration": 612.793273,
          "end_time": "2020-10-06T21:30:02.806611",
          "exception": false,
          "start_time": "2020-10-06T21:19:50.013338",
          "status": "completed"
        },
        "tags": [],
        "colab": {
          "base_uri": "https://localhost:8080/"
        },
        "id": "p_HLAguk3Hu7",
        "outputId": "44a7aca2-5978-44f7-9957-1cefd20ea1b6"
      },
      "source": [
        "model1 = Sequential()\n",
        "model1.add(layers.Embedding(max_words, 20))\n",
        "model1.add(layers.LSTM(15,dropout=0.5))\n",
        "model1.add(layers.Dense(3,activation='softmax'))\n",
        "\n",
        "\n",
        "model1.compile(optimizer='rmsprop',loss='categorical_crossentropy', metrics=['accuracy'])\n",
        "#Implementing model checkpoins to save the best metric and do not lose it on training.\n",
        "checkpoint1 = ModelCheckpoint(\"best_model1.hdf5\", monitor='val_accuracy', verbose=1,save_best_only=True, mode='auto', period=1,save_weights_only=False)\n",
        "history = model1.fit(X_train, y_train, epochs=1,validation_data=(X_test, y_test),callbacks=[checkpoint1])"
      ],
      "execution_count": 23,
      "outputs": [
        {
          "output_type": "stream",
          "text": [
            "WARNING:tensorflow:`period` argument is deprecated. Please use `save_freq` to specify the frequency in number of batches seen.\n",
            "645/645 [==============================] - 57s 40ms/step - loss: 0.9237 - accuracy: 0.5893 - val_loss: 0.6816 - val_accuracy: 0.7417\n",
            "\n",
            "Epoch 00001: val_accuracy improved from -inf to 0.74167, saving model to best_model1.hdf5\n"
          ],
          "name": "stdout"
        }
      ]
    },
    {
      "cell_type": "markdown",
      "metadata": {
        "papermill": {
          "duration": 3.837682,
          "end_time": "2020-10-06T21:30:10.817414",
          "exception": false,
          "start_time": "2020-10-06T21:30:06.979732",
          "status": "completed"
        },
        "tags": [],
        "id": "_Adp7ffL3Hu7"
      },
      "source": [
        "## Bidirectional LTSM model"
      ]
    },
    {
      "cell_type": "code",
      "metadata": {
        "colab": {
          "base_uri": "https://localhost:8080/"
        },
        "id": "Q-mfHTQw8OyU",
        "outputId": "b15c8aca-fe17-4f69-cd75-2b2617a32053"
      },
      "source": [
        "model2 = Sequential()\n",
        "model2.add(layers.Embedding(max_words, 40, input_length=max_len))\n",
        "model2.add(layers.Bidirectional(layers.LSTM(20,dropout=0.6)))\n",
        "model2.add(layers.Dense(3,activation='softmax'))\n",
        "model2.compile(optimizer='rmsprop',loss='categorical_crossentropy', metrics=['accuracy'])\n",
        "#Implementing model checkpoins to save the best metric and do not lose it on training.\n",
        "checkpoint2 = ModelCheckpoint(\"best_model2.hdf5\", monitor='val_accuracy', verbose=1,save_best_only=True, mode='auto', period=1,save_weights_only=False)\n",
        "history = model2.fit(X_train, y_train, epochs=1,validation_data=(X_test, y_test),callbacks=[checkpoint2])"
      ],
      "execution_count": 25,
      "outputs": [
        {
          "output_type": "stream",
          "text": [
            "WARNING:tensorflow:`period` argument is deprecated. Please use `save_freq` to specify the frequency in number of batches seen.\n",
            "645/645 [==============================] - 58s 83ms/step - loss: 0.8777 - accuracy: 0.5971 - val_loss: 0.6277 - val_accuracy: 0.7329\n",
            "\n",
            "Epoch 00001: val_accuracy improved from -inf to 0.73294, saving model to best_model2.hdf5\n"
          ],
          "name": "stdout"
        }
      ]
    },
    {
      "cell_type": "markdown",
      "metadata": {
        "papermill": {
          "duration": 11.452373,
          "end_time": "2020-10-06T21:50:21.772094",
          "exception": false,
          "start_time": "2020-10-06T21:50:10.319721",
          "status": "completed"
        },
        "tags": [],
        "id": "FgetCbK33Hu8"
      },
      "source": [
        "## 1D Convolutional model\n",
        "\n",
        "Before diving into this model, I know by prior experience that it tends to overfit extremely fast on small datasets. In this sense, just will implement it to show you how to do it in case it's of your interest."
      ]
    },
    {
      "cell_type": "code",
      "metadata": {
        "execution": {
          "iopub.execute_input": "2020-10-06T21:50:43.900261Z",
          "iopub.status.busy": "2020-10-06T21:50:43.899061Z",
          "iopub.status.idle": "2020-10-06T21:56:48.149729Z",
          "shell.execute_reply": "2020-10-06T21:56:48.149055Z"
        },
        "papermill": {
          "duration": 375.351238,
          "end_time": "2020-10-06T21:56:48.149913",
          "exception": false,
          "start_time": "2020-10-06T21:50:32.798675",
          "status": "completed"
        },
        "tags": [],
        "colab": {
          "base_uri": "https://localhost:8080/"
        },
        "id": "hfdi1hZG3Hu8",
        "outputId": "fbb4553f-221b-47e5-8c47-a0db193ab546"
      },
      "source": [
        "from keras import regularizers\n",
        "model3 = Sequential()\n",
        "model3.add(layers.Embedding(max_words, 40, input_length=max_len))\n",
        "model3.add(layers.Conv1D(20, 6, activation='relu',kernel_regularizer=regularizers.l1_l2(l1=2e-3, l2=2e-3),bias_regularizer=regularizers.l2(2e-3)))\n",
        "model3.add(layers.MaxPooling1D(5))\n",
        "model3.add(layers.Conv1D(20, 6, activation='relu',kernel_regularizer=regularizers.l1_l2(l1=2e-3, l2=2e-3),bias_regularizer=regularizers.l2(2e-3)))\n",
        "model3.add(layers.GlobalMaxPooling1D())\n",
        "model3.add(layers.Dense(3,activation='softmax'))\n",
        "model3.compile(optimizer='rmsprop',loss='categorical_crossentropy',metrics=['acc'])\n",
        "checkpoint3 = ModelCheckpoint(\"best_model3.hdf5\", monitor='val_accuracy', verbose=1,save_best_only=True, mode='auto', period=1,save_weights_only=False)\n",
        "history = model3.fit(X_train, y_train, epochs=1,validation_data=(X_test, y_test),callbacks=[checkpoint3])"
      ],
      "execution_count": 26,
      "outputs": [
        {
          "output_type": "stream",
          "text": [
            "WARNING:tensorflow:`period` argument is deprecated. Please use `save_freq` to specify the frequency in number of batches seen.\n",
            "645/645 [==============================] - 9s 11ms/step - loss: 1.2646 - acc: 0.4892 - val_loss: 0.8986 - val_acc: 0.6082\n",
            "WARNING:tensorflow:Can save best model only with val_accuracy available, skipping.\n"
          ],
          "name": "stdout"
        }
      ]
    },
    {
      "cell_type": "markdown",
      "metadata": {
        "papermill": {
          "duration": 13.181114,
          "end_time": "2020-10-06T21:57:15.037099",
          "exception": false,
          "start_time": "2020-10-06T21:57:01.855985",
          "status": "completed"
        },
        "tags": [],
        "id": "YE77FF9C3Hu8"
      },
      "source": [
        "If you check the val_accuracy metric in the training logs you won't find better score than the one achieved by the BidRNN. Again, the previous model is not the best for this task becaue is majorly used for short translation tasks, but the good thing to notice is its speed to train.\n",
        "\n",
        "Let's move on."
      ]
    },
    {
      "cell_type": "markdown",
      "metadata": {
        "papermill": {
          "duration": 13.897718,
          "end_time": "2020-10-06T21:57:43.244943",
          "exception": false,
          "start_time": "2020-10-06T21:57:29.347225",
          "status": "completed"
        },
        "tags": [],
        "id": "1RAeK5tv3Hu9"
      },
      "source": [
        "# Best model validation\n",
        "(Before final commit, the best model obtained was the BidRNN)"
      ]
    },
    {
      "cell_type": "code",
      "metadata": {
        "execution": {
          "iopub.execute_input": "2020-10-06T21:58:11.467383Z",
          "iopub.status.busy": "2020-10-06T21:58:11.466210Z",
          "iopub.status.idle": "2020-10-06T21:58:12.123269Z",
          "shell.execute_reply": "2020-10-06T21:58:12.122665Z"
        },
        "papermill": {
          "duration": 14.579894,
          "end_time": "2020-10-06T21:58:12.123401",
          "exception": false,
          "start_time": "2020-10-06T21:57:57.543507",
          "status": "completed"
        },
        "tags": [],
        "id": "44ykr48k3Hu9"
      },
      "source": [
        "#Let's load the best model obtained during training\n",
        "best_model = keras.models.load_model(\"best_model2.hdf5\")"
      ],
      "execution_count": 27,
      "outputs": []
    },
    {
      "cell_type": "code",
      "metadata": {
        "execution": {
          "iopub.execute_input": "2020-10-06T21:58:39.201557Z",
          "iopub.status.busy": "2020-10-06T21:58:39.200429Z",
          "iopub.status.idle": "2020-10-06T21:58:42.153698Z",
          "shell.execute_reply": "2020-10-06T21:58:42.152736Z"
        },
        "papermill": {
          "duration": 16.163436,
          "end_time": "2020-10-06T21:58:42.153869",
          "exception": false,
          "start_time": "2020-10-06T21:58:25.990433",
          "status": "completed"
        },
        "tags": [],
        "colab": {
          "base_uri": "https://localhost:8080/"
        },
        "id": "WQHQvHZ93Hu9",
        "outputId": "665a84d0-83a3-4c8a-a8da-b6b2cc6bf65b"
      },
      "source": [
        "test_loss, test_acc = best_model.evaluate(X_test, y_test, verbose=2)\n",
        "print('Model accuracy: ',test_acc)"
      ],
      "execution_count": 28,
      "outputs": [
        {
          "output_type": "stream",
          "text": [
            "215/215 - 6s - loss: 0.6277 - accuracy: 0.7329\n",
            "Model accuracy:  0.7329355478286743\n"
          ],
          "name": "stdout"
        }
      ]
    },
    {
      "cell_type": "code",
      "metadata": {
        "execution": {
          "iopub.execute_input": "2020-10-06T21:59:08.598704Z",
          "iopub.status.busy": "2020-10-06T21:59:08.597660Z",
          "iopub.status.idle": "2020-10-06T21:59:11.143379Z",
          "shell.execute_reply": "2020-10-06T21:59:11.144225Z"
        },
        "papermill": {
          "duration": 15.873978,
          "end_time": "2020-10-06T21:59:11.144400",
          "exception": false,
          "start_time": "2020-10-06T21:58:55.270422",
          "status": "completed"
        },
        "tags": [],
        "id": "kOb0DC953Hu9"
      },
      "source": [
        "predictions = best_model.predict(X_test)"
      ],
      "execution_count": 29,
      "outputs": []
    },
    {
      "cell_type": "markdown",
      "metadata": {
        "papermill": {
          "duration": 13.54467,
          "end_time": "2020-10-06T21:59:38.859073",
          "exception": false,
          "start_time": "2020-10-06T21:59:25.314403",
          "status": "completed"
        },
        "tags": [],
        "id": "czD3xrJn3Hu9"
      },
      "source": [
        "## Confusion matrix\n",
        "\n",
        "Alright, we all know the accuracy is not a good metric to measure how well a model is. That's the reason why I like to always see its confusion matrix, that way I have a better understanding of its classification and generalization ability. Let's plot it."
      ]
    },
    {
      "cell_type": "code",
      "metadata": {
        "execution": {
          "iopub.execute_input": "2020-10-06T22:00:05.244627Z",
          "iopub.status.busy": "2020-10-06T22:00:05.243340Z",
          "iopub.status.idle": "2020-10-06T22:00:05.261173Z",
          "shell.execute_reply": "2020-10-06T22:00:05.260523Z"
        },
        "papermill": {
          "duration": 13.356845,
          "end_time": "2020-10-06T22:00:05.261290",
          "exception": false,
          "start_time": "2020-10-06T21:59:51.904445",
          "status": "completed"
        },
        "tags": [],
        "id": "G7ZP3xRd3Hu-"
      },
      "source": [
        "from sklearn.metrics import confusion_matrix\n",
        "matrix = confusion_matrix(y_test.argmax(axis=1), np.around(predictions, decimals=0).argmax(axis=1))"
      ],
      "execution_count": 30,
      "outputs": []
    },
    {
      "cell_type": "code",
      "metadata": {
        "execution": {
          "iopub.execute_input": "2020-10-06T22:00:32.586908Z",
          "iopub.status.busy": "2020-10-06T22:00:32.586210Z",
          "iopub.status.idle": "2020-10-06T22:00:33.285612Z",
          "shell.execute_reply": "2020-10-06T22:00:33.285009Z"
        },
        "papermill": {
          "duration": 14.015558,
          "end_time": "2020-10-06T22:00:33.285736",
          "exception": false,
          "start_time": "2020-10-06T22:00:19.270178",
          "status": "completed"
        },
        "tags": [],
        "colab": {
          "base_uri": "https://localhost:8080/",
          "height": 880
        },
        "id": "SNkstqVd3Hu-",
        "outputId": "700bbf52-1e7c-4a34-c66d-dd746e5494fb"
      },
      "source": [
        "import seaborn as sns\n",
        "conf_matrix = pd.DataFrame(matrix, index = ['Neutral','Negative','Positive'],columns = ['Neutral','Negative','Positive'])\n",
        "#Normalizing\n",
        "conf_matrix = conf_matrix.astype('float') / conf_matrix.sum(axis=1)[:, np.newaxis]\n",
        "plt.figure(figsize = (15,15))\n",
        "sns.heatmap(conf_matrix, annot=True, annot_kws={\"size\": 15})"
      ],
      "execution_count": 31,
      "outputs": [
        {
          "output_type": "execute_result",
          "data": {
            "text/plain": [
              "<matplotlib.axes._subplots.AxesSubplot at 0x7f6e1e749810>"
            ]
          },
          "metadata": {
            "tags": []
          },
          "execution_count": 31
        },
        {
          "output_type": "display_data",
          "data": {
            "image/png": "[encoded data removed]",
            "text/plain": [
              "<Figure size 1080x1080 with 2 Axes>"
            ]
          },
          "metadata": {
            "tags": [],
            "needs_background": "light"
          }
        }
      ]
    },
    {
      "cell_type": "markdown",
      "metadata": {
        "papermill": {
          "duration": 12.906403,
          "end_time": "2020-10-06T22:00:59.275554",
          "exception": false,
          "start_time": "2020-10-06T22:00:46.369151",
          "status": "completed"
        },
        "tags": [],
        "id": "Y-M6V-Fy3Hu-"
      },
      "source": [
        "Again, the model's score is very poor, but keep in mind it hasn't gone through hyperparameter tuning. Let's see how it performs on some test text."
      ]
    },
    {
      "cell_type": "code",
      "metadata": {
        "execution": {
          "iopub.execute_input": "2020-10-06T22:01:26.949303Z",
          "iopub.status.busy": "2020-10-06T22:01:26.947906Z",
          "iopub.status.idle": "2020-10-06T22:01:26.951809Z",
          "shell.execute_reply": "2020-10-06T22:01:26.951229Z"
        },
        "papermill": {
          "duration": 14.303017,
          "end_time": "2020-10-06T22:01:26.951936",
          "exception": false,
          "start_time": "2020-10-06T22:01:12.648919",
          "status": "completed"
        },
        "tags": [],
        "id": "ZKrsegCy3Hu-"
      },
      "source": [
        "sentiment = ['Neutral','Negative','Positive']"
      ],
      "execution_count": 32,
      "outputs": []
    },
    {
      "cell_type": "code",
      "metadata": {
        "execution": {
          "iopub.execute_input": "2020-10-06T22:01:53.611240Z",
          "iopub.status.busy": "2020-10-06T22:01:53.610198Z",
          "iopub.status.idle": "2020-10-06T22:01:53.680730Z",
          "shell.execute_reply": "2020-10-06T22:01:53.679943Z"
        },
        "papermill": {
          "duration": 13.274625,
          "end_time": "2020-10-06T22:01:53.680880",
          "exception": false,
          "start_time": "2020-10-06T22:01:40.406255",
          "status": "completed"
        },
        "tags": [],
        "colab": {
          "base_uri": "https://localhost:8080/",
          "height": 35
        },
        "id": "UNzEhfsp3Hu-",
        "outputId": "935f71e1-5669-4c9a-8525-d2f2f7df0e1b"
      },
      "source": [
        "sequence = tokenizer.texts_to_sequences(['this experience has been the worst , want my money back'])\n",
        "test = pad_sequences(sequence, maxlen=max_len)\n",
        "sentiment[np.around(best_model.predict(test), decimals=0).argmax(axis=1)[0]]"
      ],
      "execution_count": 33,
      "outputs": [
        {
          "output_type": "execute_result",
          "data": {
            "application/vnd.google.colaboratory.intrinsic+json": {
              "type": "string"
            },
            "text/plain": [
              "'Neutral'"
            ]
          },
          "metadata": {
            "tags": []
          },
          "execution_count": 33
        }
      ]
    },
    {
      "cell_type": "code",
      "metadata": {
        "execution": {
          "iopub.execute_input": "2020-10-06T22:02:21.215521Z",
          "iopub.status.busy": "2020-10-06T22:02:21.214548Z",
          "iopub.status.idle": "2020-10-06T22:02:21.272639Z",
          "shell.execute_reply": "2020-10-06T22:02:21.271230Z"
        },
        "papermill": {
          "duration": 14.445195,
          "end_time": "2020-10-06T22:02:21.272790",
          "exception": false,
          "start_time": "2020-10-06T22:02:06.827595",
          "status": "completed"
        },
        "tags": [],
        "colab": {
          "base_uri": "https://localhost:8080/",
          "height": 35
        },
        "id": "GbHHKF1Y3Hu_",
        "outputId": "361b0f0c-5ae6-4294-c12b-2135260b340b"
      },
      "source": [
        "sequence = tokenizer.texts_to_sequences(['this data science article is the best ever'])\n",
        "test = pad_sequences(sequence, maxlen=max_len)\n",
        "sentiment[np.around(best_model.predict(test), decimals=0).argmax(axis=1)[0]]"
      ],
      "execution_count": 34,
      "outputs": [
        {
          "output_type": "execute_result",
          "data": {
            "application/vnd.google.colaboratory.intrinsic+json": {
              "type": "string"
            },
            "text/plain": [
              "'Positive'"
            ]
          },
          "metadata": {
            "tags": []
          },
          "execution_count": 34
        }
      ]
    },
    {
      "cell_type": "code",
      "metadata": {
        "execution": {
          "iopub.execute_input": "2020-10-06T22:02:48.026609Z",
          "iopub.status.busy": "2020-10-06T22:02:48.025563Z",
          "iopub.status.idle": "2020-10-06T22:02:48.086453Z",
          "shell.execute_reply": "2020-10-06T22:02:48.085808Z"
        },
        "papermill": {
          "duration": 13.396502,
          "end_time": "2020-10-06T22:02:48.086621",
          "exception": false,
          "start_time": "2020-10-06T22:02:34.690119",
          "status": "completed"
        },
        "tags": [],
        "colab": {
          "base_uri": "https://localhost:8080/",
          "height": 35
        },
        "id": "gpLx8zif3Hu_",
        "outputId": "348460f5-2ad4-4b24-c6d6-6bce6eeb5767"
      },
      "source": [
        "sequence = tokenizer.texts_to_sequences(['i hate youtube ads, they are annoying'])\n",
        "test = pad_sequences(sequence, maxlen=max_len)\n",
        "sentiment[np.around(best_model.predict(test), decimals=0).argmax(axis=1)[0]]"
      ],
      "execution_count": 35,
      "outputs": [
        {
          "output_type": "execute_result",
          "data": {
            "application/vnd.google.colaboratory.intrinsic+json": {
              "type": "string"
            },
            "text/plain": [
              "'Neutral'"
            ]
          },
          "metadata": {
            "tags": []
          },
          "execution_count": 35
        }
      ]
    },
    {
      "cell_type": "code",
      "metadata": {
        "execution": {
          "iopub.execute_input": "2020-10-06T22:03:14.961947Z",
          "iopub.status.busy": "2020-10-06T22:03:14.960920Z",
          "iopub.status.idle": "2020-10-06T22:03:15.014373Z",
          "shell.execute_reply": "2020-10-06T22:03:15.013738Z"
        },
        "papermill": {
          "duration": 13.646468,
          "end_time": "2020-10-06T22:03:15.014510",
          "exception": false,
          "start_time": "2020-10-06T22:03:01.368042",
          "status": "completed"
        },
        "tags": [],
        "colab": {
          "base_uri": "https://localhost:8080/",
          "height": 35
        },
        "id": "7rMud5ch3Hu_",
        "outputId": "f36011a4-0a32-40a3-f54f-fee9b49d142a"
      },
      "source": [
        "sequence = tokenizer.texts_to_sequences(['i really loved how the technician helped me with the issue that i had'])\n",
        "test = pad_sequences(sequence, maxlen=max_len)\n",
        "sentiment[np.around(best_model.predict(test), decimals=0).argmax(axis=1)[0]]"
      ],
      "execution_count": 36,
      "outputs": [
        {
          "output_type": "execute_result",
          "data": {
            "application/vnd.google.colaboratory.intrinsic+json": {
              "type": "string"
            },
            "text/plain": [
              "'Neutral'"
            ]
          },
          "metadata": {
            "tags": []
          },
          "execution_count": 36
        }
      ]
    }
  ]
}